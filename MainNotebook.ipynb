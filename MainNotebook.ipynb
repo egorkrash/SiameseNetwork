{
 "cells": [
  {
   "cell_type": "code",
   "execution_count": 4,
   "metadata": {},
   "outputs": [],
   "source": [
    "import pandas as pd\n"
   ]
  },
  {
   "cell_type": "code",
   "execution_count": 11,
   "metadata": {},
   "outputs": [],
   "source": [
    "data = pd.read_csv('new_apps_compatible.csv', sep=';').drop('Пустая колонка для совместимости', axis=1)"
   ]
  },
  {
   "cell_type": "code",
   "execution_count": 12,
   "metadata": {},
   "outputs": [
    {
     "data": {
      "text/html": [
       "<div>\n",
       "<style scoped>\n",
       "    .dataframe tbody tr th:only-of-type {\n",
       "        vertical-align: middle;\n",
       "    }\n",
       "\n",
       "    .dataframe tbody tr th {\n",
       "        vertical-align: top;\n",
       "    }\n",
       "\n",
       "    .dataframe thead th {\n",
       "        text-align: right;\n",
       "    }\n",
       "</style>\n",
       "<table border=\"1\" class=\"dataframe\">\n",
       "  <thead>\n",
       "    <tr style=\"text-align: right;\">\n",
       "      <th></th>\n",
       "      <th>Url</th>\n",
       "      <th>Name</th>\n",
       "      <th>Description</th>\n",
       "      <th>Keywords</th>\n",
       "      <th>Category</th>\n",
       "      <th>HowManyGrades</th>\n",
       "    </tr>\n",
       "  </thead>\n",
       "  <tbody>\n",
       "    <tr>\n",
       "      <th>0</th>\n",
       "      <td>https://play.google.com/store/apps/details?id=...</td>\n",
       "      <td>LEGO® NINJAGO®: Ride Ninja</td>\n",
       "      <td>&lt;b&gt;Сразись со злодеями в городе NINJAGO® в нов...</td>\n",
       "      <td>ниндзяго 4|лего арктика|лего сити|ніндзя|lego ...</td>\n",
       "      <td>MOVERS_SHAKERS/FAMILY</td>\n",
       "      <td>40259</td>\n",
       "    </tr>\n",
       "    <tr>\n",
       "      <th>1</th>\n",
       "      <td>https://play.google.com/store/apps/details?id=...</td>\n",
       "      <td>Google Fit – здоровье и трекер активности</td>\n",
       "      <td>Google Fit поможет вам вести более активный и ...</td>\n",
       "      <td>здоровье|гиги за шаги|приложение гиги за шаги|...</td>\n",
       "      <td>MOVERS_SHAKERS/HEALTH_AND_FITNESS</td>\n",
       "      <td>319002</td>\n",
       "    </tr>\n",
       "    <tr>\n",
       "      <th>2</th>\n",
       "      <td>https://play.google.com/store/apps/details?id=...</td>\n",
       "      <td>Фиксики Игры Дом Мечты, Мемори и Пазлы для детей</td>\n",
       "      <td>А кто такие фиксики Большой большой секрет! Ес...</td>\n",
       "      <td>дом 1|дома 3|дом дом дом|дом 5|ухаживать за до...</td>\n",
       "      <td>TOPSELLING_FREE/FAMILY_CREATE</td>\n",
       "      <td>33934</td>\n",
       "    </tr>\n",
       "    <tr>\n",
       "      <th>3</th>\n",
       "      <td>https://play.google.com/store/apps/details?id=...</td>\n",
       "      <td>Виджет прогноза погоды</td>\n",
       "      <td>&lt;b&gt;🏆Более 50 миллионов пользователей! Популярн...</td>\n",
       "      <td>виджет живая погода|прозрачные погода и часы|п...</td>\n",
       "      <td>TOPGROSSING/WEATHER</td>\n",
       "      <td>48226</td>\n",
       "    </tr>\n",
       "    <tr>\n",
       "      <th>4</th>\n",
       "      <td>https://play.google.com/store/apps/details?id=...</td>\n",
       "      <td>Hungry Shark World</td>\n",
       "      <td>&lt;i&gt;*** Акулы вернулись в обширном кровожадном ...</td>\n",
       "      <td>акула|хангри шарк|игри за акули|акула убийца|а...</td>\n",
       "      <td>/TOPSELLING_FREE</td>\n",
       "      <td>1515141</td>\n",
       "    </tr>\n",
       "  </tbody>\n",
       "</table>\n",
       "</div>"
      ],
      "text/plain": [
       "                                                 Url  \\\n",
       "0  https://play.google.com/store/apps/details?id=...   \n",
       "1  https://play.google.com/store/apps/details?id=...   \n",
       "2  https://play.google.com/store/apps/details?id=...   \n",
       "3  https://play.google.com/store/apps/details?id=...   \n",
       "4  https://play.google.com/store/apps/details?id=...   \n",
       "\n",
       "                                               Name  \\\n",
       "0                        LEGO® NINJAGO®: Ride Ninja   \n",
       "1         Google Fit – здоровье и трекер активности   \n",
       "2  Фиксики Игры Дом Мечты, Мемори и Пазлы для детей   \n",
       "3                            Виджет прогноза погоды   \n",
       "4                                Hungry Shark World   \n",
       "\n",
       "                                         Description  \\\n",
       "0  <b>Сразись со злодеями в городе NINJAGO® в нов...   \n",
       "1  Google Fit поможет вам вести более активный и ...   \n",
       "2  А кто такие фиксики Большой большой секрет! Ес...   \n",
       "3  <b>🏆Более 50 миллионов пользователей! Популярн...   \n",
       "4  <i>*** Акулы вернулись в обширном кровожадном ...   \n",
       "\n",
       "                                            Keywords  \\\n",
       "0  ниндзяго 4|лего арктика|лего сити|ніндзя|lego ...   \n",
       "1  здоровье|гиги за шаги|приложение гиги за шаги|...   \n",
       "2  дом 1|дома 3|дом дом дом|дом 5|ухаживать за до...   \n",
       "3  виджет живая погода|прозрачные погода и часы|п...   \n",
       "4  акула|хангри шарк|игри за акули|акула убийца|а...   \n",
       "\n",
       "                            Category  HowManyGrades  \n",
       "0              MOVERS_SHAKERS/FAMILY          40259  \n",
       "1  MOVERS_SHAKERS/HEALTH_AND_FITNESS         319002  \n",
       "2      TOPSELLING_FREE/FAMILY_CREATE          33934  \n",
       "3                TOPGROSSING/WEATHER          48226  \n",
       "4                   /TOPSELLING_FREE        1515141  "
      ]
     },
     "execution_count": 12,
     "metadata": {},
     "output_type": "execute_result"
    }
   ],
   "source": [
    "data.head()"
   ]
  },
  {
   "cell_type": "code",
   "execution_count": 15,
   "metadata": {},
   "outputs": [],
   "source": [
    "from gensim.models.wrappers.fasttext import FastTextKeyedVectors\n"
   ]
  },
  {
   "cell_type": "code",
   "execution_count": 43,
   "metadata": {},
   "outputs": [
    {
     "data": {
      "text/plain": [
       "[('-король', 0.9802986979484558),\n",
       " ('королева', 0.9768819808959961),\n",
       " ('короля', 0.9556112289428711),\n",
       " ('короли', 0.9534466862678528),\n",
       " ('королевства', 0.9524538516998291),\n",
       " ('герцогиня', 0.9472317695617676),\n",
       " ('королю', 0.9463006854057312),\n",
       " ('королевич', 0.9376259446144104),\n",
       " ('королевстве', 0.9376195669174194),\n",
       " ('королевишна', 0.9349520206451416)]"
      ]
     },
     "execution_count": 43,
     "metadata": {},
     "output_type": "execute_result"
    }
   ],
   "source": [
    "fasttext.most_similar_cosmul(['женщина', 'король'], '')"
   ]
  },
  {
   "cell_type": "code",
   "execution_count": 50,
   "metadata": {},
   "outputs": [
    {
     "data": {
      "text/plain": [
       "array([ 1.3937835e+00, -6.2257046e-01,  1.1760442e+00,  3.3439171e-01,\n",
       "       -1.1935475e+00,  1.1582522e+00,  1.5151129e+00,  3.6820042e-01,\n",
       "        7.3892468e-01,  1.5261491e-01, -1.7474741e+00, -8.9806622e-01,\n",
       "        1.3591512e+00, -4.0492435e+00,  4.4942224e-01,  5.2107058e+00,\n",
       "       -3.5096314e+00,  5.1940691e-01,  1.8507445e+00,  1.7509716e+00,\n",
       "       -2.0825057e+00, -3.0736337e+00,  3.7644083e+00,  2.2526188e+00,\n",
       "        1.5158581e+00, -2.6168561e+00,  2.7808595e+00,  6.6455615e-01,\n",
       "        1.0638831e+00, -9.0115082e-01, -2.0024135e+00, -8.3575773e-01,\n",
       "        2.9489596e+00,  1.8669521e+00, -1.6327554e-01,  2.4259204e-01,\n",
       "        6.8468237e-01,  1.7522883e+00,  1.9951439e+00,  1.2975096e+00,\n",
       "       -2.3531280e+00,  5.0838089e-01,  2.0930219e+00,  1.2772243e+00,\n",
       "        6.0732469e-02,  5.5549109e-01,  1.3682463e+00,  2.5464761e+00,\n",
       "        1.6384201e+00,  1.2616557e+00, -7.9479724e-02,  3.7906828e+00,\n",
       "        6.5308496e-02, -1.6459752e+00,  9.2657244e-01,  2.1781583e+00,\n",
       "       -3.2514868e+00,  2.5010240e+00,  1.1363990e+00,  1.1526707e+00,\n",
       "        1.4221936e+00, -8.3683789e-01,  4.5579025e-01, -1.8488709e+00,\n",
       "       -1.3097820e+00, -1.3939853e+00,  3.4805188e+00,  4.5790744e+00,\n",
       "        2.6925752e+00,  1.0837823e+00,  4.8370898e-01, -5.9535289e-01,\n",
       "        3.5355792e+00, -8.7143660e-01,  3.2576895e+00,  1.6693592e-02,\n",
       "       -2.2388783e+00, -5.7237101e-01,  1.3383031e+00,  1.1217289e+00,\n",
       "       -3.1775632e+00,  2.4089122e+00,  2.7396348e+00,  1.8799212e+00,\n",
       "        4.0568703e-01, -2.3081186e+00, -3.8315117e-01, -2.4731433e+00,\n",
       "       -1.3749042e+00,  2.6905951e+00,  6.0283363e-01,  1.4144480e-02,\n",
       "       -1.7301810e+00, -2.2070253e+00,  9.9278963e-01, -2.5548742e+00,\n",
       "       -4.4458368e-01, -7.6038027e-01, -2.7699490e+00,  6.0944641e-01,\n",
       "        7.3910618e-01,  1.9280449e+00,  4.4581738e+00,  2.4774461e+00,\n",
       "       -4.5202816e-01, -1.0408514e+00, -3.1612146e+00, -4.7051919e-01,\n",
       "        1.6954890e+00,  1.4833552e+00, -9.6407676e-01,  1.1185519e+00,\n",
       "       -6.0188681e-01, -2.8867390e+00,  9.4839704e-01,  1.6092627e+00,\n",
       "        1.2703949e+00,  1.8089359e+00, -1.4895349e+00, -9.2325234e-01,\n",
       "        7.5047511e-01,  3.1931043e+00,  5.7424814e-01,  7.0665789e-01,\n",
       "        1.0527732e+00,  1.6147163e+00,  7.7919549e-01,  3.2065386e-01,\n",
       "        1.8050462e-01, -2.8135378e+00, -2.1778529e+00, -2.6311636e+00,\n",
       "        1.1609421e+00,  2.2243791e+00,  3.4181242e+00,  8.7741363e-01,\n",
       "       -1.4477314e+00,  2.5027603e-01,  2.6016047e+00,  1.0688112e+00,\n",
       "        5.6775951e+00,  1.2668717e+00,  1.5037327e+00,  1.7746178e+00,\n",
       "        2.1887398e+00,  1.6018379e-01,  1.1244098e+00, -4.3605213e+00,\n",
       "       -3.8006444e+00,  4.7819123e+00, -2.3048787e+00,  8.8556510e-01,\n",
       "       -2.0541626e-01,  9.5485151e-02,  1.3976839e-01,  2.9426007e+00,\n",
       "       -1.6433148e+00,  5.1299483e-01, -2.3452463e+00,  4.9037308e-01,\n",
       "       -8.4559894e-01,  1.3322001e+00, -1.4193348e+00, -8.9088631e-01,\n",
       "        1.8595046e+00, -1.1935602e+00,  3.4534788e+00,  2.3385538e-01,\n",
       "       -2.0158281e+00,  2.5165231e+00,  1.0431380e+00, -4.2451777e+00,\n",
       "        3.0382924e+00, -1.3700467e+00,  1.6924732e+00, -1.1517891e+00,\n",
       "       -3.7430744e+00,  1.7847359e-02,  2.8264940e-01, -5.8010405e-01,\n",
       "       -8.1864905e-01,  3.8445085e-01, -4.0632939e+00, -1.6323510e-01,\n",
       "        1.7202498e+00,  2.9749324e+00, -5.5501461e-03,  1.8545459e-01,\n",
       "       -1.0767657e+00,  1.7695272e+00, -3.3300905e+00,  3.7868872e-01,\n",
       "       -1.3002187e+00,  1.2638307e+00, -1.8262653e+00,  9.8844218e-01,\n",
       "       -1.4158978e+00,  3.0617082e-01,  1.2612679e+00,  1.5512048e+00,\n",
       "       -2.0962784e+00, -8.9050889e-02,  1.6052841e+00,  1.5735865e+00,\n",
       "       -3.0448267e-01,  8.6489618e-02,  5.0903898e-01, -3.6296241e+00,\n",
       "        3.3789315e+00,  6.9116080e-01, -8.0963004e-01,  1.6734737e-01,\n",
       "        2.3441262e+00,  1.2886152e+00, -2.0532227e+00,  1.1833838e+00,\n",
       "        5.7796788e-01,  1.9433030e-01,  3.3178511e+00,  1.5167880e-01,\n",
       "       -3.6719255e+00, -1.9065530e+00,  8.4419578e-01,  1.1172638e+00,\n",
       "       -1.2694371e+00,  8.0370766e-01, -2.4695399e+00, -2.0171509e+00,\n",
       "        3.6566834e+00, -1.3146416e+00, -7.7629596e-02, -2.9569461e+00,\n",
       "       -2.9805318e-01,  1.7434467e+00,  2.5572148e-01, -4.3369576e-01,\n",
       "        3.6550689e+00, -2.0454953e+00, -4.6018690e-01,  1.4000578e+00,\n",
       "        2.8078234e-01, -8.2100904e-01,  4.0692741e-01,  3.9728069e-01,\n",
       "       -4.1198552e-01, -4.3485141e-01,  4.1028147e+00, -2.2638798e+00,\n",
       "        2.1972148e+00, -2.7696609e+00, -1.0806760e+00, -8.0089509e-02,\n",
       "        2.1626768e+00, -3.2141297e+00, -9.7094840e-01, -3.1276187e-01,\n",
       "       -1.8383920e+00, -4.0252692e-01,  3.4468681e-01,  1.0100040e+00,\n",
       "       -2.0671842e+00,  3.1433334e+00,  1.2782812e-01,  2.7963130e+00,\n",
       "        3.0575201e-01, -5.4333913e-01, -4.2504838e-01, -1.6838958e+00,\n",
       "        1.6496015e+00,  2.0835981e+00,  2.3960845e+00, -1.3903056e+00,\n",
       "        5.0002408e+00, -1.9744518e+00,  1.6619327e+00,  1.8190256e-01,\n",
       "       -1.8307837e+00,  9.7500896e-01,  2.1156240e+00, -1.4165397e+00,\n",
       "       -8.3233401e-02,  8.9800847e-01,  2.7639983e+00, -2.4765122e+00,\n",
       "        5.2457869e-01,  3.1420412e+00, -6.7981362e-01,  1.7528925e+00,\n",
       "        3.5734549e+00,  4.7146362e-01, -1.9277935e+00,  4.1771145e+00,\n",
       "       -2.4526441e+00,  1.6294875e+00, -3.8488367e+00, -7.0954150e-01,\n",
       "       -9.0794671e-01,  1.3501182e+00, -6.9560111e-02, -2.9577780e-01],\n",
       "      dtype=float32)"
      ]
     },
     "execution_count": 50,
     "metadata": {},
     "output_type": "execute_result"
    }
   ],
   "source": [
    "fasttext['король']"
   ]
  },
  {
   "cell_type": "code",
   "execution_count": 53,
   "metadata": {},
   "outputs": [],
   "source": [
    "import tensorflow as tf"
   ]
  },
  {
   "cell_type": "code",
   "execution_count": 55,
   "metadata": {},
   "outputs": [
    {
     "name": "stderr",
     "output_type": "stream",
     "text": [
      "Using TensorFlow backend.\n"
     ]
    }
   ],
   "source": [
    "import keras.backend as K"
   ]
  },
  {
   "cell_type": "code",
   "execution_count": null,
   "metadata": {},
   "outputs": [],
   "source": [
    "fasttext_model_path = '/Users/egor/Downloads/187/model.model'"
   ]
  },
  {
   "cell_type": "code",
   "execution_count": 61,
   "metadata": {},
   "outputs": [],
   "source": [
    "class DataProcessor(object):\n",
    "    def __init__(self):\n",
    "        pass"
   ]
  },
  {
   "cell_type": "code",
   "execution_count": 62,
   "metadata": {},
   "outputs": [],
   "source": [
    "class SiameseNetwork(object):\n",
    "    def __init__(self, embeddings_path=None):\n",
    "        self.loss = None\n",
    "        self.model = None\n",
    "        \n",
    "    def get_embeddings(self):\n",
    "        assert self.embeddings_path is not None, 'you must specify embeddings path'\n",
    "        fasttext = FastTextKeyedVectors.load(self.embeddings_path)\n",
    "    \n",
    "    def get_loss(self):\n",
    "        # Implement pairwise loss\n",
    "        pass\n",
    "    \n",
    "    def get_prob(self, s1, s2):\n",
    "        return 1 / (1 + tf.exp(s1 - s2))\n",
    "    \n",
    "    def build(self):\n",
    "        # build arch of siamese network\n",
    "        pass\n",
    "    \n",
    "    def train(self):\n",
    "        pass\n",
    "    \n",
    "    def predict(self, X):\n",
    "        pass"
   ]
  },
  {
   "cell_type": "code",
   "execution_count": null,
   "metadata": {},
   "outputs": [],
   "source": []
  }
 ],
 "metadata": {
  "kernelspec": {
   "display_name": "Python 3",
   "language": "python",
   "name": "python3"
  },
  "language_info": {
   "codemirror_mode": {
    "name": "ipython",
    "version": 3
   },
   "file_extension": ".py",
   "mimetype": "text/x-python",
   "name": "python",
   "nbconvert_exporter": "python",
   "pygments_lexer": "ipython3",
   "version": "3.7.3"
  }
 },
 "nbformat": 4,
 "nbformat_minor": 2
}
